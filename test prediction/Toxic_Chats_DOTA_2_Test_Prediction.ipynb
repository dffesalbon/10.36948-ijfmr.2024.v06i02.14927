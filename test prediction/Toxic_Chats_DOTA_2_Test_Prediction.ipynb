{
  "nbformat": 4,
  "nbformat_minor": 0,
  "metadata": {
    "colab": {
      "provenance": []
    },
    "kernelspec": {
      "name": "python3",
      "display_name": "Python 3"
    },
    "language_info": {
      "name": "python"
    }
  },
  "cells": [
    {
      "cell_type": "code",
      "source": [
        "!pip install --quiet transformers\n",
        "!pip install --quiet torchinfo\n",
        "!pip install --quiet gdown\n",
        "!pip install --quiet clean-text\n",
        "!pip install --quiet wget\n",
        "!pip install --quiet openai\n",
        "!pip install --upgrade openai\n",
        "\n",
        "# sklearn\n",
        "from sklearn.model_selection import train_test_split\n",
        "from sklearn.metrics import accuracy_score, f1_score\n",
        "from sklearn.metrics import confusion_matrix, classification_report\n",
        "from sklearn.metrics import ConfusionMatrixDisplay, confusion_matrix\n",
        "#open ai\n",
        "import openai\n",
        "# others\n",
        "import re, string\n",
        "import emoji\n",
        "import pandas as pd\n",
        "import numpy as np\n",
        "import traceback\n",
        "import torch.nn.functional as F\n",
        "from tqdm import tqdm\n",
        "from collections import defaultdict\n",
        "\n",
        "from transformers import AutoModel, AutoTokenizer\n",
        "from transformers import BertForSequenceClassification\n",
        "from transformers import BertTokenizer\n",
        "\n",
        "import wget\n",
        "import openai\n",
        "import torch\n",
        "import numpy as np\n",
        "import torch.nn.functional as F\n",
        "\n",
        "device = torch.device(\"cuda\" if torch.cuda.is_available() else \"cpu\")"
      ],
      "metadata": {
        "colab": {
          "base_uri": "https://localhost:8080/",
          "height": 0
        },
        "id": "yaMyPCGL2uwN",
        "outputId": "11592360-2bc3-4474-c67d-11bc7232f383"
      },
      "execution_count": 1,
      "outputs": [
        {
          "output_type": "stream",
          "name": "stdout",
          "text": [
            "Requirement already satisfied: openai in /usr/local/lib/python3.10/dist-packages (0.28.0)\n",
            "Requirement already satisfied: requests>=2.20 in /usr/local/lib/python3.10/dist-packages (from openai) (2.31.0)\n",
            "Requirement already satisfied: tqdm in /usr/local/lib/python3.10/dist-packages (from openai) (4.66.1)\n",
            "Requirement already satisfied: aiohttp in /usr/local/lib/python3.10/dist-packages (from openai) (3.8.5)\n",
            "Requirement already satisfied: charset-normalizer<4,>=2 in /usr/local/lib/python3.10/dist-packages (from requests>=2.20->openai) (3.2.0)\n",
            "Requirement already satisfied: idna<4,>=2.5 in /usr/local/lib/python3.10/dist-packages (from requests>=2.20->openai) (3.4)\n",
            "Requirement already satisfied: urllib3<3,>=1.21.1 in /usr/local/lib/python3.10/dist-packages (from requests>=2.20->openai) (2.0.4)\n",
            "Requirement already satisfied: certifi>=2017.4.17 in /usr/local/lib/python3.10/dist-packages (from requests>=2.20->openai) (2023.7.22)\n",
            "Requirement already satisfied: attrs>=17.3.0 in /usr/local/lib/python3.10/dist-packages (from aiohttp->openai) (23.1.0)\n",
            "Requirement already satisfied: multidict<7.0,>=4.5 in /usr/local/lib/python3.10/dist-packages (from aiohttp->openai) (6.0.4)\n",
            "Requirement already satisfied: async-timeout<5.0,>=4.0.0a3 in /usr/local/lib/python3.10/dist-packages (from aiohttp->openai) (4.0.3)\n",
            "Requirement already satisfied: yarl<2.0,>=1.0 in /usr/local/lib/python3.10/dist-packages (from aiohttp->openai) (1.9.2)\n",
            "Requirement already satisfied: frozenlist>=1.1.1 in /usr/local/lib/python3.10/dist-packages (from aiohttp->openai) (1.4.0)\n",
            "Requirement already satisfied: aiosignal>=1.1.2 in /usr/local/lib/python3.10/dist-packages (from aiohttp->openai) (1.3.1)\n"
          ]
        }
      ]
    },
    {
      "cell_type": "code",
      "source": [
        "import seaborn as sns\n",
        "import matplotlib.pyplot as plt"
      ],
      "metadata": {
        "id": "Jgpafd89HPUf"
      },
      "execution_count": 2,
      "outputs": []
    },
    {
      "cell_type": "code",
      "source": [
        "openai.api_key = \"\"\n",
        "!export OPENAI_API_KEY=\"\""
      ],
      "metadata": {
        "id": "ivOvMv_AEBtj"
      },
      "execution_count": 15,
      "outputs": []
    },
    {
      "cell_type": "code",
      "source": [
        "test = pd.read_csv('/content/test.csv')\n",
        "id2label = {0:'non-toxic', 1:'mild', 2:'toxic'}"
      ],
      "metadata": {
        "id": "i4Qx1TzQ3cET"
      },
      "execution_count": 4,
      "outputs": []
    },
    {
      "cell_type": "code",
      "execution_count": 5,
      "metadata": {
        "id": "fx6GfBPi2gL3"
      },
      "outputs": [],
      "source": [
        "def print_default_confusion_matrix(model_name, tests, predictions):\n",
        "  data_labels = ['non-toxic', 'mild', 'toxic']\n",
        "\n",
        "  default_conf_mx = confusion_matrix(tests, predictions)\n",
        "  print(f'{model_name} confusion matrix log:')\n",
        "  print(default_conf_mx)\n",
        "\n",
        "def print_confusion_matrix(model_name, tests, predictions):\n",
        "  data_labels = ['non-toxic', 'mild', 'toxic']\n",
        "\n",
        "  conf_mx = confusion_matrix(tests, predictions, normalize=\"true\")\n",
        "  fig, ax = plt.subplots(figsize=(6, 6))\n",
        "  disp = ConfusionMatrixDisplay(confusion_matrix=conf_mx, display_labels=data_labels)\n",
        "  disp.plot(cmap=\"Blues\", values_format=\".2f\", ax=ax, colorbar=False)\n",
        "  plt.title(f\"{model_name} normalized confusion matrix\")\n",
        "  plt.show()\n",
        "\n",
        "def print_classification_report(tests, predictions):\n",
        "  class_names = ['non-toxic','mild', 'toxic']\n",
        "  print(classification_report(tests, predictions, target_names=class_names))"
      ]
    },
    {
      "cell_type": "code",
      "source": [
        "def gpt3_classify(text):\n",
        "  input_prompt = text + ' ->'\n",
        "  fine_tuned_model_id = 'ft:davinci-002:personal:gpt-dota-toxic:7uKhQqc5'\n",
        "  res = openai.Completion.create(model=fine_tuned_model_id, prompt=input_prompt, max_tokens=2, temperature=0)\n",
        "  output = res['choices'][0]['text'].strip()\n",
        "  #return {id2label[int(output)]}\n",
        "  return int(output)\n",
        "\n",
        "\n",
        "def bert_classify(bert, text):\n",
        "  input_text = tokenizer(text, return_tensors=\"pt\", padding=True, truncation=True, max_length=64)\n",
        "  inputs = {k:v.to(device) for k,v in input_text.items()}\n",
        "  with torch.no_grad():\n",
        "    outputs = bert(**inputs)\n",
        "  out = F.softmax(outputs.logits,dim=1)\n",
        "  y_out = np.argmax(out.cpu(),axis=1)\n",
        "  #return {id2label[y_out.item()]}\n",
        "  return y_out.item()"
      ],
      "metadata": {
        "id": "F-X43Uku4EfU"
      },
      "execution_count": 6,
      "outputs": []
    },
    {
      "cell_type": "code",
      "source": [
        "test['gpt-3-predictions'] = test['message'].apply(lambda x:gpt3_classify(x))"
      ],
      "metadata": {
        "id": "BP1P8tAqCf5f"
      },
      "execution_count": 7,
      "outputs": []
    },
    {
      "cell_type": "code",
      "source": [
        "fine_tuned_repository = 'dffesalbon/bert-base-uncased-dota-toxic'\n",
        "tokenizer = BertTokenizer.from_pretrained(\"bert-base-uncased\")\n",
        "bert = BertForSequenceClassification.from_pretrained(fine_tuned_repository)\n",
        "test['bert-base-predictions'] = test['message'].apply(lambda x:bert_classify(bert, x))"
      ],
      "metadata": {
        "id": "QG0RV1JgExsl"
      },
      "execution_count": 8,
      "outputs": []
    },
    {
      "cell_type": "markdown",
      "source": [
        "## BERT (Base-uncased)"
      ],
      "metadata": {
        "id": "k3hvWuLQ3C7G"
      }
    },
    {
      "cell_type": "code",
      "source": [
        "print_default_confusion_matrix('bert-base-uncased', test['target'], test['bert-base-predictions'])"
      ],
      "metadata": {
        "colab": {
          "base_uri": "https://localhost:8080/",
          "height": 0
        },
        "id": "p2Gh6HEZ4WAq",
        "outputId": "d2167e6e-12e0-4a75-ec02-0b89628e938a"
      },
      "execution_count": 9,
      "outputs": [
        {
          "output_type": "stream",
          "name": "stdout",
          "text": [
            "bert-base-uncased confusion matrix log:\n",
            "[[321  18  14]\n",
            " [ 13  68  37]\n",
            " [ 19  28 120]]\n"
          ]
        }
      ]
    },
    {
      "cell_type": "code",
      "source": [
        "print_confusion_matrix('bert-base-uncased', test['target'], test['bert-base-predictions'])"
      ],
      "metadata": {
        "colab": {
          "base_uri": "https://localhost:8080/",
          "height": 564
        },
        "id": "pVp-C3xOHT3p",
        "outputId": "b7895e5f-b637-4069-ff97-3413a776c0b9"
      },
      "execution_count": 10,
      "outputs": [
        {
          "output_type": "display_data",
          "data": {
            "text/plain": [
              "<Figure size 600x600 with 1 Axes>"
            ],
            "image/png": "[encoded data removed]"
          },
          "metadata": {}
        }
      ]
    },
    {
      "cell_type": "code",
      "source": [
        "print_classification_report(test['target'], test['bert-base-predictions'])"
      ],
      "metadata": {
        "colab": {
          "base_uri": "https://localhost:8080/",
          "height": 0
        },
        "id": "T5ACvR5bHYfI",
        "outputId": "669b2027-4472-4f0b-aa2a-b85c427425a5"
      },
      "execution_count": 11,
      "outputs": [
        {
          "output_type": "stream",
          "name": "stdout",
          "text": [
            "              precision    recall  f1-score   support\n",
            "\n",
            "   non-toxic       0.91      0.91      0.91       353\n",
            "        mild       0.60      0.58      0.59       118\n",
            "       toxic       0.70      0.72      0.71       167\n",
            "\n",
            "    accuracy                           0.80       638\n",
            "   macro avg       0.74      0.73      0.74       638\n",
            "weighted avg       0.80      0.80      0.80       638\n",
            "\n"
          ]
        }
      ]
    },
    {
      "cell_type": "markdown",
      "source": [
        "## GPT-3 (davinci-002)"
      ],
      "metadata": {
        "id": "ECD3qWAeHfww"
      }
    },
    {
      "cell_type": "code",
      "source": [
        "print_default_confusion_matrix('gpt-3-davinci-002', test['target'], test['gpt-3-predictions'])"
      ],
      "metadata": {
        "colab": {
          "base_uri": "https://localhost:8080/",
          "height": 0
        },
        "id": "BUrINhKsHnyO",
        "outputId": "a711c574-f394-471a-90b2-5e893031c905"
      },
      "execution_count": 12,
      "outputs": [
        {
          "output_type": "stream",
          "name": "stdout",
          "text": [
            "gpt-3-davinci-002 confusion matrix log:\n",
            "[[325  17  11]\n",
            " [  3  70  45]\n",
            " [ 12  21 134]]\n"
          ]
        }
      ]
    },
    {
      "cell_type": "code",
      "source": [
        "print_confusion_matrix('gpt-3-davinci-002', test['target'], test['gpt-3-predictions'])"
      ],
      "metadata": {
        "colab": {
          "base_uri": "https://localhost:8080/",
          "height": 564
        },
        "id": "027co1ZSHv1x",
        "outputId": "a39315bd-da5f-42e0-9d02-04e1c6845dfc"
      },
      "execution_count": 13,
      "outputs": [
        {
          "output_type": "display_data",
          "data": {
            "text/plain": [
              "<Figure size 600x600 with 1 Axes>"
            ],
            "image/png": "[encoded data removed]"
          },
          "metadata": {}
        }
      ]
    },
    {
      "cell_type": "code",
      "source": [
        "print_classification_report(test['target'], test['gpt-3-predictions'])"
      ],
      "metadata": {
        "colab": {
          "base_uri": "https://localhost:8080/",
          "height": 0
        },
        "id": "wQ-9u-MkHxfq",
        "outputId": "6552ca5e-d66d-4738-cd94-b53ba9b14e6e"
      },
      "execution_count": 14,
      "outputs": [
        {
          "output_type": "stream",
          "name": "stdout",
          "text": [
            "              precision    recall  f1-score   support\n",
            "\n",
            "   non-toxic       0.96      0.92      0.94       353\n",
            "        mild       0.65      0.59      0.62       118\n",
            "       toxic       0.71      0.80      0.75       167\n",
            "\n",
            "    accuracy                           0.83       638\n",
            "   macro avg       0.77      0.77      0.77       638\n",
            "weighted avg       0.83      0.83      0.83       638\n",
            "\n"
          ]
        }
      ]
    }
  ]
}